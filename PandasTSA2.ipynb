{
  "nbformat": 4,
  "nbformat_minor": 0,
  "metadata": {
    "colab": {
      "name": "PandasTSA2.ipynb",
      "provenance": [],
      "authorship_tag": "ABX9TyMuk2DWwLnwvY0X7cCnNcu5",
      "include_colab_link": true
    },
    "kernelspec": {
      "name": "python3",
      "display_name": "Python 3"
    },
    "language_info": {
      "name": "python"
    }
  },
  "cells": [
    {
      "cell_type": "markdown",
      "metadata": {
        "id": "view-in-github",
        "colab_type": "text"
      },
      "source": [
        "<a href=\"https://colab.research.google.com/github/kvraagul/Pandas_TimeSeriesAnalysis/blob/main/PandasTSA2.ipynb\" target=\"_parent\"><img src=\"https://colab.research.google.com/assets/colab-badge.svg\" alt=\"Open In Colab\"/></a>"
      ]
    },
    {
      "cell_type": "code",
      "metadata": {
        "id": "y3k9rtXRQl7S"
      },
      "source": [
        "import pandas as pd\n",
        "import numpy as np"
      ],
      "execution_count": 1,
      "outputs": []
    },
    {
      "cell_type": "code",
      "metadata": {
        "id": "wtCaf4E0RM7Q"
      },
      "source": [
        "df =pd.read_csv('/content/Nifty 50 June 2020 - June 2021.csv')"
      ],
      "execution_count": 2,
      "outputs": []
    },
    {
      "cell_type": "code",
      "metadata": {
        "colab": {
          "base_uri": "https://localhost:8080/",
          "height": 195
        },
        "id": "xi-WAnv77G43",
        "outputId": "942fed03-d1c9-4b3c-aeec-7dabb7c21605"
      },
      "source": [
        "df.head()"
      ],
      "execution_count": 3,
      "outputs": [
        {
          "output_type": "execute_result",
          "data": {
            "text/html": [
              "<div>\n",
              "<style scoped>\n",
              "    .dataframe tbody tr th:only-of-type {\n",
              "        vertical-align: middle;\n",
              "    }\n",
              "\n",
              "    .dataframe tbody tr th {\n",
              "        vertical-align: top;\n",
              "    }\n",
              "\n",
              "    .dataframe thead th {\n",
              "        text-align: right;\n",
              "    }\n",
              "</style>\n",
              "<table border=\"1\" class=\"dataframe\">\n",
              "  <thead>\n",
              "    <tr style=\"text-align: right;\">\n",
              "      <th></th>\n",
              "      <th>Date</th>\n",
              "      <th>Open</th>\n",
              "      <th>High</th>\n",
              "      <th>Low</th>\n",
              "      <th>Close</th>\n",
              "      <th>Adj Close</th>\n",
              "      <th>Volume</th>\n",
              "    </tr>\n",
              "  </thead>\n",
              "  <tbody>\n",
              "    <tr>\n",
              "      <th>0</th>\n",
              "      <td>2020-06-29</td>\n",
              "      <td>10311.950195</td>\n",
              "      <td>10337.950195</td>\n",
              "      <td>10223.599609</td>\n",
              "      <td>10312.400391</td>\n",
              "      <td>10312.400391</td>\n",
              "      <td>574500.0</td>\n",
              "    </tr>\n",
              "    <tr>\n",
              "      <th>1</th>\n",
              "      <td>2020-06-30</td>\n",
              "      <td>10382.599609</td>\n",
              "      <td>10401.049805</td>\n",
              "      <td>10267.349609</td>\n",
              "      <td>10302.099609</td>\n",
              "      <td>10302.099609</td>\n",
              "      <td>556200.0</td>\n",
              "    </tr>\n",
              "    <tr>\n",
              "      <th>2</th>\n",
              "      <td>2020-07-01</td>\n",
              "      <td>10323.799805</td>\n",
              "      <td>10447.049805</td>\n",
              "      <td>10299.599609</td>\n",
              "      <td>10430.049805</td>\n",
              "      <td>10430.049805</td>\n",
              "      <td>573600.0</td>\n",
              "    </tr>\n",
              "    <tr>\n",
              "      <th>3</th>\n",
              "      <td>2020-07-02</td>\n",
              "      <td>10493.049805</td>\n",
              "      <td>10598.200195</td>\n",
              "      <td>10485.549805</td>\n",
              "      <td>10551.700195</td>\n",
              "      <td>10551.700195</td>\n",
              "      <td>597400.0</td>\n",
              "    </tr>\n",
              "    <tr>\n",
              "      <th>4</th>\n",
              "      <td>2020-07-03</td>\n",
              "      <td>10614.950195</td>\n",
              "      <td>10631.299805</td>\n",
              "      <td>10562.650391</td>\n",
              "      <td>10607.349609</td>\n",
              "      <td>10607.349609</td>\n",
              "      <td>525200.0</td>\n",
              "    </tr>\n",
              "  </tbody>\n",
              "</table>\n",
              "</div>"
            ],
            "text/plain": [
              "         Date          Open          High  ...         Close     Adj Close    Volume\n",
              "0  2020-06-29  10311.950195  10337.950195  ...  10312.400391  10312.400391  574500.0\n",
              "1  2020-06-30  10382.599609  10401.049805  ...  10302.099609  10302.099609  556200.0\n",
              "2  2020-07-01  10323.799805  10447.049805  ...  10430.049805  10430.049805  573600.0\n",
              "3  2020-07-02  10493.049805  10598.200195  ...  10551.700195  10551.700195  597400.0\n",
              "4  2020-07-03  10614.950195  10631.299805  ...  10607.349609  10607.349609  525200.0\n",
              "\n",
              "[5 rows x 7 columns]"
            ]
          },
          "metadata": {
            "tags": []
          },
          "execution_count": 3
        }
      ]
    },
    {
      "cell_type": "code",
      "metadata": {
        "id": "RjpSX3xCLssv"
      },
      "source": [
        "del df['Date']"
      ],
      "execution_count": 8,
      "outputs": []
    },
    {
      "cell_type": "code",
      "metadata": {
        "id": "MsE6SDuhHJik"
      },
      "source": [
        "df = df.fillna(method='ffill')"
      ],
      "execution_count": 4,
      "outputs": []
    },
    {
      "cell_type": "code",
      "metadata": {
        "colab": {
          "base_uri": "https://localhost:8080/",
          "height": 195
        },
        "id": "Pvml4coDLx7L",
        "outputId": "b9d39ce5-b341-463e-b8f9-c948088ed21c"
      },
      "source": [
        "df.head()"
      ],
      "execution_count": 9,
      "outputs": [
        {
          "output_type": "execute_result",
          "data": {
            "text/html": [
              "<div>\n",
              "<style scoped>\n",
              "    .dataframe tbody tr th:only-of-type {\n",
              "        vertical-align: middle;\n",
              "    }\n",
              "\n",
              "    .dataframe tbody tr th {\n",
              "        vertical-align: top;\n",
              "    }\n",
              "\n",
              "    .dataframe thead th {\n",
              "        text-align: right;\n",
              "    }\n",
              "</style>\n",
              "<table border=\"1\" class=\"dataframe\">\n",
              "  <thead>\n",
              "    <tr style=\"text-align: right;\">\n",
              "      <th></th>\n",
              "      <th>Open</th>\n",
              "      <th>High</th>\n",
              "      <th>Low</th>\n",
              "      <th>Close</th>\n",
              "      <th>Adj Close</th>\n",
              "      <th>Volume</th>\n",
              "    </tr>\n",
              "  </thead>\n",
              "  <tbody>\n",
              "    <tr>\n",
              "      <th>0</th>\n",
              "      <td>10311.950195</td>\n",
              "      <td>10337.950195</td>\n",
              "      <td>10223.599609</td>\n",
              "      <td>10312.400391</td>\n",
              "      <td>10312.400391</td>\n",
              "      <td>574500.0</td>\n",
              "    </tr>\n",
              "    <tr>\n",
              "      <th>1</th>\n",
              "      <td>10382.599609</td>\n",
              "      <td>10401.049805</td>\n",
              "      <td>10267.349609</td>\n",
              "      <td>10302.099609</td>\n",
              "      <td>10302.099609</td>\n",
              "      <td>556200.0</td>\n",
              "    </tr>\n",
              "    <tr>\n",
              "      <th>2</th>\n",
              "      <td>10323.799805</td>\n",
              "      <td>10447.049805</td>\n",
              "      <td>10299.599609</td>\n",
              "      <td>10430.049805</td>\n",
              "      <td>10430.049805</td>\n",
              "      <td>573600.0</td>\n",
              "    </tr>\n",
              "    <tr>\n",
              "      <th>3</th>\n",
              "      <td>10493.049805</td>\n",
              "      <td>10598.200195</td>\n",
              "      <td>10485.549805</td>\n",
              "      <td>10551.700195</td>\n",
              "      <td>10551.700195</td>\n",
              "      <td>597400.0</td>\n",
              "    </tr>\n",
              "    <tr>\n",
              "      <th>4</th>\n",
              "      <td>10614.950195</td>\n",
              "      <td>10631.299805</td>\n",
              "      <td>10562.650391</td>\n",
              "      <td>10607.349609</td>\n",
              "      <td>10607.349609</td>\n",
              "      <td>525200.0</td>\n",
              "    </tr>\n",
              "  </tbody>\n",
              "</table>\n",
              "</div>"
            ],
            "text/plain": [
              "           Open          High  ...     Adj Close    Volume\n",
              "0  10311.950195  10337.950195  ...  10312.400391  574500.0\n",
              "1  10382.599609  10401.049805  ...  10302.099609  556200.0\n",
              "2  10323.799805  10447.049805  ...  10430.049805  573600.0\n",
              "3  10493.049805  10598.200195  ...  10551.700195  597400.0\n",
              "4  10614.950195  10631.299805  ...  10607.349609  525200.0\n",
              "\n",
              "[5 rows x 6 columns]"
            ]
          },
          "metadata": {
            "tags": []
          },
          "execution_count": 9
        }
      ]
    },
    {
      "cell_type": "code",
      "metadata": {
        "colab": {
          "base_uri": "https://localhost:8080/"
        },
        "id": "3GFqrSzXL3x5",
        "outputId": "d09c7bbc-c9fd-4bfd-a937-12bf1cf7e71a"
      },
      "source": [
        "df.count()"
      ],
      "execution_count": 10,
      "outputs": [
        {
          "output_type": "execute_result",
          "data": {
            "text/plain": [
              "Open         251\n",
              "High         251\n",
              "Low          251\n",
              "Close        251\n",
              "Adj Close    251\n",
              "Volume       251\n",
              "dtype: int64"
            ]
          },
          "metadata": {
            "tags": []
          },
          "execution_count": 10
        }
      ]
    },
    {
      "cell_type": "markdown",
      "metadata": {
        "id": "-OQ1N8TPQ8Oy"
      },
      "source": [
        "# date_range()\n",
        "\n",
        "* date_range() is one of the general functions in Pandas which is used to return a fixed frequency DatetimeIndex\n",
        "\n",
        "* a number of dates that includes a particular start and finish date and all dates in between\n",
        "\n",
        "* If a data doesn't contain date, date_range() function will allow you to specify date range for the data"
      ]
    },
    {
      "cell_type": "code",
      "metadata": {
        "colab": {
          "base_uri": "https://localhost:8080/"
        },
        "id": "rs3C8Lbd7D8I",
        "outputId": "7c6420a6-f513-4749-c997-024323079c38"
      },
      "source": [
        "rng = pd.date_range(start='2020-06-29',periods=251,freq='B')\n",
        "rng"
      ],
      "execution_count": 13,
      "outputs": [
        {
          "output_type": "execute_result",
          "data": {
            "text/plain": [
              "DatetimeIndex(['2020-06-29', '2020-06-30', '2020-07-01', '2020-07-02',\n",
              "               '2020-07-03', '2020-07-06', '2020-07-07', '2020-07-08',\n",
              "               '2020-07-09', '2020-07-10',\n",
              "               ...\n",
              "               '2021-06-01', '2021-06-02', '2021-06-03', '2021-06-04',\n",
              "               '2021-06-07', '2021-06-08', '2021-06-09', '2021-06-10',\n",
              "               '2021-06-11', '2021-06-14'],\n",
              "              dtype='datetime64[ns]', length=251, freq='B')"
            ]
          },
          "metadata": {
            "tags": []
          },
          "execution_count": 13
        }
      ]
    },
    {
      "cell_type": "code",
      "metadata": {
        "id": "xWpnFf5DMA_F"
      },
      "source": [
        "df.set_index(rng,inplace=True)"
      ],
      "execution_count": 14,
      "outputs": []
    },
    {
      "cell_type": "code",
      "metadata": {
        "colab": {
          "base_uri": "https://localhost:8080/",
          "height": 195
        },
        "id": "fnOKbPEQMSF2",
        "outputId": "6a96bda9-c792-4859-d2ca-bfead9f83998"
      },
      "source": [
        "df.head()"
      ],
      "execution_count": 15,
      "outputs": [
        {
          "output_type": "execute_result",
          "data": {
            "text/html": [
              "<div>\n",
              "<style scoped>\n",
              "    .dataframe tbody tr th:only-of-type {\n",
              "        vertical-align: middle;\n",
              "    }\n",
              "\n",
              "    .dataframe tbody tr th {\n",
              "        vertical-align: top;\n",
              "    }\n",
              "\n",
              "    .dataframe thead th {\n",
              "        text-align: right;\n",
              "    }\n",
              "</style>\n",
              "<table border=\"1\" class=\"dataframe\">\n",
              "  <thead>\n",
              "    <tr style=\"text-align: right;\">\n",
              "      <th></th>\n",
              "      <th>Open</th>\n",
              "      <th>High</th>\n",
              "      <th>Low</th>\n",
              "      <th>Close</th>\n",
              "      <th>Adj Close</th>\n",
              "      <th>Volume</th>\n",
              "    </tr>\n",
              "  </thead>\n",
              "  <tbody>\n",
              "    <tr>\n",
              "      <th>2020-06-29</th>\n",
              "      <td>10311.950195</td>\n",
              "      <td>10337.950195</td>\n",
              "      <td>10223.599609</td>\n",
              "      <td>10312.400391</td>\n",
              "      <td>10312.400391</td>\n",
              "      <td>574500.0</td>\n",
              "    </tr>\n",
              "    <tr>\n",
              "      <th>2020-06-30</th>\n",
              "      <td>10382.599609</td>\n",
              "      <td>10401.049805</td>\n",
              "      <td>10267.349609</td>\n",
              "      <td>10302.099609</td>\n",
              "      <td>10302.099609</td>\n",
              "      <td>556200.0</td>\n",
              "    </tr>\n",
              "    <tr>\n",
              "      <th>2020-07-01</th>\n",
              "      <td>10323.799805</td>\n",
              "      <td>10447.049805</td>\n",
              "      <td>10299.599609</td>\n",
              "      <td>10430.049805</td>\n",
              "      <td>10430.049805</td>\n",
              "      <td>573600.0</td>\n",
              "    </tr>\n",
              "    <tr>\n",
              "      <th>2020-07-02</th>\n",
              "      <td>10493.049805</td>\n",
              "      <td>10598.200195</td>\n",
              "      <td>10485.549805</td>\n",
              "      <td>10551.700195</td>\n",
              "      <td>10551.700195</td>\n",
              "      <td>597400.0</td>\n",
              "    </tr>\n",
              "    <tr>\n",
              "      <th>2020-07-03</th>\n",
              "      <td>10614.950195</td>\n",
              "      <td>10631.299805</td>\n",
              "      <td>10562.650391</td>\n",
              "      <td>10607.349609</td>\n",
              "      <td>10607.349609</td>\n",
              "      <td>525200.0</td>\n",
              "    </tr>\n",
              "  </tbody>\n",
              "</table>\n",
              "</div>"
            ],
            "text/plain": [
              "                    Open          High  ...     Adj Close    Volume\n",
              "2020-06-29  10311.950195  10337.950195  ...  10312.400391  574500.0\n",
              "2020-06-30  10382.599609  10401.049805  ...  10302.099609  556200.0\n",
              "2020-07-01  10323.799805  10447.049805  ...  10430.049805  573600.0\n",
              "2020-07-02  10493.049805  10598.200195  ...  10551.700195  597400.0\n",
              "2020-07-03  10614.950195  10631.299805  ...  10607.349609  525200.0\n",
              "\n",
              "[5 rows x 6 columns]"
            ]
          },
          "metadata": {
            "tags": []
          },
          "execution_count": 15
        }
      ]
    },
    {
      "cell_type": "markdown",
      "metadata": {
        "id": "Tb3NA870NMt9"
      },
      "source": [
        "# asfreq()\n",
        "\n",
        "* asfreq() function is used to convert TimeSeries to specified frequency. \n",
        "\n",
        "* The function also provide filling method to pad/backfill missing values."
      ]
    },
    {
      "cell_type": "code",
      "metadata": {
        "colab": {
          "base_uri": "https://localhost:8080/",
          "height": 343
        },
        "id": "bVv8XkeWNo94",
        "outputId": "090f5030-f9b3-414e-f2e4-bee89b9f8938"
      },
      "source": [
        "df.asfreq('D',method='pad').head(10)"
      ],
      "execution_count": 19,
      "outputs": [
        {
          "output_type": "execute_result",
          "data": {
            "text/html": [
              "<div>\n",
              "<style scoped>\n",
              "    .dataframe tbody tr th:only-of-type {\n",
              "        vertical-align: middle;\n",
              "    }\n",
              "\n",
              "    .dataframe tbody tr th {\n",
              "        vertical-align: top;\n",
              "    }\n",
              "\n",
              "    .dataframe thead th {\n",
              "        text-align: right;\n",
              "    }\n",
              "</style>\n",
              "<table border=\"1\" class=\"dataframe\">\n",
              "  <thead>\n",
              "    <tr style=\"text-align: right;\">\n",
              "      <th></th>\n",
              "      <th>Open</th>\n",
              "      <th>High</th>\n",
              "      <th>Low</th>\n",
              "      <th>Close</th>\n",
              "      <th>Adj Close</th>\n",
              "      <th>Volume</th>\n",
              "    </tr>\n",
              "  </thead>\n",
              "  <tbody>\n",
              "    <tr>\n",
              "      <th>2020-06-29</th>\n",
              "      <td>10311.950195</td>\n",
              "      <td>10337.950195</td>\n",
              "      <td>10223.599609</td>\n",
              "      <td>10312.400391</td>\n",
              "      <td>10312.400391</td>\n",
              "      <td>574500.0</td>\n",
              "    </tr>\n",
              "    <tr>\n",
              "      <th>2020-06-30</th>\n",
              "      <td>10382.599609</td>\n",
              "      <td>10401.049805</td>\n",
              "      <td>10267.349609</td>\n",
              "      <td>10302.099609</td>\n",
              "      <td>10302.099609</td>\n",
              "      <td>556200.0</td>\n",
              "    </tr>\n",
              "    <tr>\n",
              "      <th>2020-07-01</th>\n",
              "      <td>10323.799805</td>\n",
              "      <td>10447.049805</td>\n",
              "      <td>10299.599609</td>\n",
              "      <td>10430.049805</td>\n",
              "      <td>10430.049805</td>\n",
              "      <td>573600.0</td>\n",
              "    </tr>\n",
              "    <tr>\n",
              "      <th>2020-07-02</th>\n",
              "      <td>10493.049805</td>\n",
              "      <td>10598.200195</td>\n",
              "      <td>10485.549805</td>\n",
              "      <td>10551.700195</td>\n",
              "      <td>10551.700195</td>\n",
              "      <td>597400.0</td>\n",
              "    </tr>\n",
              "    <tr>\n",
              "      <th>2020-07-03</th>\n",
              "      <td>10614.950195</td>\n",
              "      <td>10631.299805</td>\n",
              "      <td>10562.650391</td>\n",
              "      <td>10607.349609</td>\n",
              "      <td>10607.349609</td>\n",
              "      <td>525200.0</td>\n",
              "    </tr>\n",
              "    <tr>\n",
              "      <th>2020-07-04</th>\n",
              "      <td>10614.950195</td>\n",
              "      <td>10631.299805</td>\n",
              "      <td>10562.650391</td>\n",
              "      <td>10607.349609</td>\n",
              "      <td>10607.349609</td>\n",
              "      <td>525200.0</td>\n",
              "    </tr>\n",
              "    <tr>\n",
              "      <th>2020-07-05</th>\n",
              "      <td>10614.950195</td>\n",
              "      <td>10631.299805</td>\n",
              "      <td>10562.650391</td>\n",
              "      <td>10607.349609</td>\n",
              "      <td>10607.349609</td>\n",
              "      <td>525200.0</td>\n",
              "    </tr>\n",
              "    <tr>\n",
              "      <th>2020-07-06</th>\n",
              "      <td>10723.849609</td>\n",
              "      <td>10811.400391</td>\n",
              "      <td>10695.099609</td>\n",
              "      <td>10763.650391</td>\n",
              "      <td>10763.650391</td>\n",
              "      <td>571200.0</td>\n",
              "    </tr>\n",
              "    <tr>\n",
              "      <th>2020-07-07</th>\n",
              "      <td>10802.849609</td>\n",
              "      <td>10813.799805</td>\n",
              "      <td>10689.700195</td>\n",
              "      <td>10799.650391</td>\n",
              "      <td>10799.650391</td>\n",
              "      <td>636800.0</td>\n",
              "    </tr>\n",
              "    <tr>\n",
              "      <th>2020-07-08</th>\n",
              "      <td>10818.650391</td>\n",
              "      <td>10847.849609</td>\n",
              "      <td>10676.549805</td>\n",
              "      <td>10705.750000</td>\n",
              "      <td>10705.750000</td>\n",
              "      <td>767900.0</td>\n",
              "    </tr>\n",
              "  </tbody>\n",
              "</table>\n",
              "</div>"
            ],
            "text/plain": [
              "                    Open          High  ...     Adj Close    Volume\n",
              "2020-06-29  10311.950195  10337.950195  ...  10312.400391  574500.0\n",
              "2020-06-30  10382.599609  10401.049805  ...  10302.099609  556200.0\n",
              "2020-07-01  10323.799805  10447.049805  ...  10430.049805  573600.0\n",
              "2020-07-02  10493.049805  10598.200195  ...  10551.700195  597400.0\n",
              "2020-07-03  10614.950195  10631.299805  ...  10607.349609  525200.0\n",
              "2020-07-04  10614.950195  10631.299805  ...  10607.349609  525200.0\n",
              "2020-07-05  10614.950195  10631.299805  ...  10607.349609  525200.0\n",
              "2020-07-06  10723.849609  10811.400391  ...  10763.650391  571200.0\n",
              "2020-07-07  10802.849609  10813.799805  ...  10799.650391  636800.0\n",
              "2020-07-08  10818.650391  10847.849609  ...  10705.750000  767900.0\n",
              "\n",
              "[10 rows x 6 columns]"
            ]
          },
          "metadata": {
            "tags": []
          },
          "execution_count": 19
        }
      ]
    },
    {
      "cell_type": "code",
      "metadata": {
        "colab": {
          "base_uri": "https://localhost:8080/",
          "height": 343
        },
        "id": "csjX46m-OMOe",
        "outputId": "a50f88d5-7da7-4b63-9c0d-601f29cfa8c4"
      },
      "source": [
        "df.asfreq('W',method='pad').head(10)"
      ],
      "execution_count": 21,
      "outputs": [
        {
          "output_type": "execute_result",
          "data": {
            "text/html": [
              "<div>\n",
              "<style scoped>\n",
              "    .dataframe tbody tr th:only-of-type {\n",
              "        vertical-align: middle;\n",
              "    }\n",
              "\n",
              "    .dataframe tbody tr th {\n",
              "        vertical-align: top;\n",
              "    }\n",
              "\n",
              "    .dataframe thead th {\n",
              "        text-align: right;\n",
              "    }\n",
              "</style>\n",
              "<table border=\"1\" class=\"dataframe\">\n",
              "  <thead>\n",
              "    <tr style=\"text-align: right;\">\n",
              "      <th></th>\n",
              "      <th>Open</th>\n",
              "      <th>High</th>\n",
              "      <th>Low</th>\n",
              "      <th>Close</th>\n",
              "      <th>Adj Close</th>\n",
              "      <th>Volume</th>\n",
              "    </tr>\n",
              "  </thead>\n",
              "  <tbody>\n",
              "    <tr>\n",
              "      <th>2020-07-05</th>\n",
              "      <td>10614.950195</td>\n",
              "      <td>10631.299805</td>\n",
              "      <td>10562.650391</td>\n",
              "      <td>10607.349609</td>\n",
              "      <td>10607.349609</td>\n",
              "      <td>525200.0</td>\n",
              "    </tr>\n",
              "    <tr>\n",
              "      <th>2020-07-12</th>\n",
              "      <td>10764.099609</td>\n",
              "      <td>10819.400391</td>\n",
              "      <td>10713.000000</td>\n",
              "      <td>10768.049805</td>\n",
              "      <td>10768.049805</td>\n",
              "      <td>590700.0</td>\n",
              "    </tr>\n",
              "    <tr>\n",
              "      <th>2020-07-19</th>\n",
              "      <td>10752.000000</td>\n",
              "      <td>10933.450195</td>\n",
              "      <td>10749.650391</td>\n",
              "      <td>10901.700195</td>\n",
              "      <td>10901.700195</td>\n",
              "      <td>676900.0</td>\n",
              "    </tr>\n",
              "    <tr>\n",
              "      <th>2020-07-26</th>\n",
              "      <td>11149.950195</td>\n",
              "      <td>11225.400391</td>\n",
              "      <td>11090.299805</td>\n",
              "      <td>11194.150391</td>\n",
              "      <td>11194.150391</td>\n",
              "      <td>678900.0</td>\n",
              "    </tr>\n",
              "    <tr>\n",
              "      <th>2020-08-02</th>\n",
              "      <td>11139.500000</td>\n",
              "      <td>11150.400391</td>\n",
              "      <td>11026.650391</td>\n",
              "      <td>11073.450195</td>\n",
              "      <td>11073.450195</td>\n",
              "      <td>642600.0</td>\n",
              "    </tr>\n",
              "    <tr>\n",
              "      <th>2020-08-09</th>\n",
              "      <td>11186.650391</td>\n",
              "      <td>11231.900391</td>\n",
              "      <td>11142.049805</td>\n",
              "      <td>11214.049805</td>\n",
              "      <td>11214.049805</td>\n",
              "      <td>452600.0</td>\n",
              "    </tr>\n",
              "    <tr>\n",
              "      <th>2020-08-16</th>\n",
              "      <td>11353.299805</td>\n",
              "      <td>11366.250000</td>\n",
              "      <td>11111.450195</td>\n",
              "      <td>11178.400391</td>\n",
              "      <td>11178.400391</td>\n",
              "      <td>645100.0</td>\n",
              "    </tr>\n",
              "    <tr>\n",
              "      <th>2020-08-23</th>\n",
              "      <td>11409.650391</td>\n",
              "      <td>11418.500000</td>\n",
              "      <td>11362.200195</td>\n",
              "      <td>11371.599609</td>\n",
              "      <td>11371.599609</td>\n",
              "      <td>668700.0</td>\n",
              "    </tr>\n",
              "    <tr>\n",
              "      <th>2020-08-30</th>\n",
              "      <td>11602.950195</td>\n",
              "      <td>11686.049805</td>\n",
              "      <td>11589.400391</td>\n",
              "      <td>11647.599609</td>\n",
              "      <td>11647.599609</td>\n",
              "      <td>807000.0</td>\n",
              "    </tr>\n",
              "    <tr>\n",
              "      <th>2020-09-06</th>\n",
              "      <td>11354.400391</td>\n",
              "      <td>11452.049805</td>\n",
              "      <td>11303.650391</td>\n",
              "      <td>11333.849609</td>\n",
              "      <td>11333.849609</td>\n",
              "      <td>681300.0</td>\n",
              "    </tr>\n",
              "  </tbody>\n",
              "</table>\n",
              "</div>"
            ],
            "text/plain": [
              "                    Open          High  ...     Adj Close    Volume\n",
              "2020-07-05  10614.950195  10631.299805  ...  10607.349609  525200.0\n",
              "2020-07-12  10764.099609  10819.400391  ...  10768.049805  590700.0\n",
              "2020-07-19  10752.000000  10933.450195  ...  10901.700195  676900.0\n",
              "2020-07-26  11149.950195  11225.400391  ...  11194.150391  678900.0\n",
              "2020-08-02  11139.500000  11150.400391  ...  11073.450195  642600.0\n",
              "2020-08-09  11186.650391  11231.900391  ...  11214.049805  452600.0\n",
              "2020-08-16  11353.299805  11366.250000  ...  11178.400391  645100.0\n",
              "2020-08-23  11409.650391  11418.500000  ...  11371.599609  668700.0\n",
              "2020-08-30  11602.950195  11686.049805  ...  11647.599609  807000.0\n",
              "2020-09-06  11354.400391  11452.049805  ...  11333.849609  681300.0\n",
              "\n",
              "[10 rows x 6 columns]"
            ]
          },
          "metadata": {
            "tags": []
          },
          "execution_count": 21
        }
      ]
    },
    {
      "cell_type": "code",
      "metadata": {
        "colab": {
          "base_uri": "https://localhost:8080/",
          "height": 343
        },
        "id": "3Hb09gTDOXpy",
        "outputId": "febbf76d-51c5-4619-d7d3-55b2ca0aa2c0"
      },
      "source": [
        "df.asfreq('H',method='pad').head(10)"
      ],
      "execution_count": 22,
      "outputs": [
        {
          "output_type": "execute_result",
          "data": {
            "text/html": [
              "<div>\n",
              "<style scoped>\n",
              "    .dataframe tbody tr th:only-of-type {\n",
              "        vertical-align: middle;\n",
              "    }\n",
              "\n",
              "    .dataframe tbody tr th {\n",
              "        vertical-align: top;\n",
              "    }\n",
              "\n",
              "    .dataframe thead th {\n",
              "        text-align: right;\n",
              "    }\n",
              "</style>\n",
              "<table border=\"1\" class=\"dataframe\">\n",
              "  <thead>\n",
              "    <tr style=\"text-align: right;\">\n",
              "      <th></th>\n",
              "      <th>Open</th>\n",
              "      <th>High</th>\n",
              "      <th>Low</th>\n",
              "      <th>Close</th>\n",
              "      <th>Adj Close</th>\n",
              "      <th>Volume</th>\n",
              "    </tr>\n",
              "  </thead>\n",
              "  <tbody>\n",
              "    <tr>\n",
              "      <th>2020-06-29 00:00:00</th>\n",
              "      <td>10311.950195</td>\n",
              "      <td>10337.950195</td>\n",
              "      <td>10223.599609</td>\n",
              "      <td>10312.400391</td>\n",
              "      <td>10312.400391</td>\n",
              "      <td>574500.0</td>\n",
              "    </tr>\n",
              "    <tr>\n",
              "      <th>2020-06-29 01:00:00</th>\n",
              "      <td>10311.950195</td>\n",
              "      <td>10337.950195</td>\n",
              "      <td>10223.599609</td>\n",
              "      <td>10312.400391</td>\n",
              "      <td>10312.400391</td>\n",
              "      <td>574500.0</td>\n",
              "    </tr>\n",
              "    <tr>\n",
              "      <th>2020-06-29 02:00:00</th>\n",
              "      <td>10311.950195</td>\n",
              "      <td>10337.950195</td>\n",
              "      <td>10223.599609</td>\n",
              "      <td>10312.400391</td>\n",
              "      <td>10312.400391</td>\n",
              "      <td>574500.0</td>\n",
              "    </tr>\n",
              "    <tr>\n",
              "      <th>2020-06-29 03:00:00</th>\n",
              "      <td>10311.950195</td>\n",
              "      <td>10337.950195</td>\n",
              "      <td>10223.599609</td>\n",
              "      <td>10312.400391</td>\n",
              "      <td>10312.400391</td>\n",
              "      <td>574500.0</td>\n",
              "    </tr>\n",
              "    <tr>\n",
              "      <th>2020-06-29 04:00:00</th>\n",
              "      <td>10311.950195</td>\n",
              "      <td>10337.950195</td>\n",
              "      <td>10223.599609</td>\n",
              "      <td>10312.400391</td>\n",
              "      <td>10312.400391</td>\n",
              "      <td>574500.0</td>\n",
              "    </tr>\n",
              "    <tr>\n",
              "      <th>2020-06-29 05:00:00</th>\n",
              "      <td>10311.950195</td>\n",
              "      <td>10337.950195</td>\n",
              "      <td>10223.599609</td>\n",
              "      <td>10312.400391</td>\n",
              "      <td>10312.400391</td>\n",
              "      <td>574500.0</td>\n",
              "    </tr>\n",
              "    <tr>\n",
              "      <th>2020-06-29 06:00:00</th>\n",
              "      <td>10311.950195</td>\n",
              "      <td>10337.950195</td>\n",
              "      <td>10223.599609</td>\n",
              "      <td>10312.400391</td>\n",
              "      <td>10312.400391</td>\n",
              "      <td>574500.0</td>\n",
              "    </tr>\n",
              "    <tr>\n",
              "      <th>2020-06-29 07:00:00</th>\n",
              "      <td>10311.950195</td>\n",
              "      <td>10337.950195</td>\n",
              "      <td>10223.599609</td>\n",
              "      <td>10312.400391</td>\n",
              "      <td>10312.400391</td>\n",
              "      <td>574500.0</td>\n",
              "    </tr>\n",
              "    <tr>\n",
              "      <th>2020-06-29 08:00:00</th>\n",
              "      <td>10311.950195</td>\n",
              "      <td>10337.950195</td>\n",
              "      <td>10223.599609</td>\n",
              "      <td>10312.400391</td>\n",
              "      <td>10312.400391</td>\n",
              "      <td>574500.0</td>\n",
              "    </tr>\n",
              "    <tr>\n",
              "      <th>2020-06-29 09:00:00</th>\n",
              "      <td>10311.950195</td>\n",
              "      <td>10337.950195</td>\n",
              "      <td>10223.599609</td>\n",
              "      <td>10312.400391</td>\n",
              "      <td>10312.400391</td>\n",
              "      <td>574500.0</td>\n",
              "    </tr>\n",
              "  </tbody>\n",
              "</table>\n",
              "</div>"
            ],
            "text/plain": [
              "                             Open          High  ...     Adj Close    Volume\n",
              "2020-06-29 00:00:00  10311.950195  10337.950195  ...  10312.400391  574500.0\n",
              "2020-06-29 01:00:00  10311.950195  10337.950195  ...  10312.400391  574500.0\n",
              "2020-06-29 02:00:00  10311.950195  10337.950195  ...  10312.400391  574500.0\n",
              "2020-06-29 03:00:00  10311.950195  10337.950195  ...  10312.400391  574500.0\n",
              "2020-06-29 04:00:00  10311.950195  10337.950195  ...  10312.400391  574500.0\n",
              "2020-06-29 05:00:00  10311.950195  10337.950195  ...  10312.400391  574500.0\n",
              "2020-06-29 06:00:00  10311.950195  10337.950195  ...  10312.400391  574500.0\n",
              "2020-06-29 07:00:00  10311.950195  10337.950195  ...  10312.400391  574500.0\n",
              "2020-06-29 08:00:00  10311.950195  10337.950195  ...  10312.400391  574500.0\n",
              "2020-06-29 09:00:00  10311.950195  10337.950195  ...  10312.400391  574500.0\n",
              "\n",
              "[10 rows x 6 columns]"
            ]
          },
          "metadata": {
            "tags": []
          },
          "execution_count": 22
        }
      ]
    }
  ]
}